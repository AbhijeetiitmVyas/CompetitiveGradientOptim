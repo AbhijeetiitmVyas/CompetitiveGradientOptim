{
 "cells": [
  {
   "cell_type": "markdown",
   "metadata": {},
   "source": [
    "$$ f(x,y) = x^2y$$"
   ]
  },
  {
   "cell_type": "markdown",
   "metadata": {},
   "source": [
    "$$F = (2xy, -x^2)$$"
   ]
  },
  {
   "cell_type": "markdown",
   "metadata": {},
   "source": [
    "$$\\nabla F =\n",
    "\\left(\\begin{array}\n",
    "22y & 2x\\\\\n",
    "-2x & 0\n",
    "\\end{array}\\right)\n",
    "$$"
   ]
  },
  {
   "cell_type": "markdown",
   "metadata": {},
   "source": [
    "$$y+\\sqrt{y^2-4x^2}$$"
   ]
  },
  {
   "cell_type": "code",
   "execution_count": 1,
   "metadata": {},
   "outputs": [],
   "source": [
    "import numpy as np"
   ]
  },
  {
   "cell_type": "code",
   "execution_count": 2,
   "metadata": {},
   "outputs": [],
   "source": [
    "import matplotlib.pyplot as plt"
   ]
  },
  {
   "cell_type": "code",
   "execution_count": 3,
   "metadata": {},
   "outputs": [],
   "source": [
    "def oracle_1(x,y):\n",
    "    gx = 2*x*y\n",
    "    gy = -x**2\n",
    "    F = [gx,gy]\n",
    "    return(F)\n",
    "\n",
    "def oracle_2(x,y):\n",
    "    gxx = 2*y\n",
    "    gxy = 2*x\n",
    "    gyy = 0\n",
    "    nabla_F = np.zeros((2,2))\n",
    "    nabla_F[0][0] = gxx\n",
    "    nabla_F[0][1] = gxy\n",
    "    nabla_F[1][0] = -gxy\n",
    "    nabla_F[1][1] = -gyy\n",
    "\n",
    "    return(nabla_F)"
   ]
  },
  {
   "cell_type": "markdown",
   "metadata": {},
   "source": [
    "Weak MVI : \n",
    "\n",
    "$$\\langle F(u),u-u^*\\rangle\\geq -\\frac{\\rho}{2}\\|F(u)\\|^2_{p^*}$$"
   ]
  },
  {
   "cell_type": "code",
   "execution_count": 4,
   "metadata": {},
   "outputs": [],
   "source": [
    "from numpy.linalg import eig"
   ]
  },
  {
   "cell_type": "code",
   "execution_count": 5,
   "metadata": {
    "scrolled": false
   },
   "outputs": [],
   "source": [
    "def region() -> None:\n",
    "    \n",
    "    x, y = np.mgrid[-1:1:1000j, -1:1:1000j]\n",
    "    i = np.where(np.abs(y)<=2*np.abs(x))\n",
    "    \n",
    "    # Calculate the max eigenvalue in the domain [-2,2]^2\n",
    "    max_eigen = y+np.sqrt(y**2-4*x**2)\n",
    "    max_eigen[i] = np.sqrt(y[i]**2+np.abs(y[i]**2-4*x[i]**2))\n",
    "    \n",
    "    #Obtain the Lipschitz constant\n",
    "    L = np.max(max_eigen)\n",
    "    \n",
    "    # Calculate the LHS of Weak-MVI\n",
    "    z = x**2*y+1/(8*L)*(4*x**2*y**2+x**4)\n",
    "    \n",
    "    return((x,y,z))"
   ]
  },
  {
   "cell_type": "code",
   "execution_count": 6,
   "metadata": {},
   "outputs": [
    {
     "name": "stderr",
     "output_type": "stream",
     "text": [
      "F:\\Anaconda\\lib\\site-packages\\ipykernel_launcher.py:7: RuntimeWarning: invalid value encountered in sqrt\n",
      "  import sys\n"
     ]
    },
    {
     "data": {
      "text/plain": [
       "(1000, 1000)"
      ]
     },
     "execution_count": 6,
     "metadata": {},
     "output_type": "execute_result"
    }
   ],
   "source": [
    "region()[2].shape"
   ]
  },
  {
   "cell_type": "code",
   "execution_count": 7,
   "metadata": {
    "scrolled": true
   },
   "outputs": [
    {
     "name": "stderr",
     "output_type": "stream",
     "text": [
      "F:\\Anaconda\\lib\\site-packages\\ipykernel_launcher.py:7: RuntimeWarning: invalid value encountered in sqrt\n",
      "  import sys\n"
     ]
    },
    {
     "data": {
      "text/plain": [
       "<matplotlib.collections.PathCollection at 0x12a677b9648>"
      ]
     },
     "execution_count": 7,
     "metadata": {},
     "output_type": "execute_result"
    },
    {
     "data": {
      "image/png": "[encoded data removed]",
      "text/plain": [
       "<Figure size 432x288 with 1 Axes>"
      ]
     },
     "metadata": {
      "needs_background": "light"
     },
     "output_type": "display_data"
    }
   ],
   "source": [
    "# obtain the region where MVI is not satisfied\n",
    "r = np.where(region()[2]<0)\n",
    "# plot the region\n",
    "plt.scatter(region()[0][r[0],r[1]],region()[1][r[0],r[1]])\n",
    "plt.scatter(0,0,marker = 'x')\n"
   ]
  },
  {
   "cell_type": "markdown",
   "metadata": {},
   "source": [
    "$$ f(x,y) = x^2y+xy$$"
   ]
  },
  {
   "cell_type": "markdown",
   "metadata": {},
   "source": [
    "$$F = (2xy+y,x^2+x)$$\n",
    "\n",
    "$$\\nabla F =\n",
    "\\left(\\begin{array}\n",
    "22y & 2x+1\\\\\n",
    "-2x-1 & 0\n",
    "\\end{array}\\right)\n",
    "$$"
   ]
  },
  {
   "cell_type": "code",
   "execution_count": 8,
   "metadata": {},
   "outputs": [],
   "source": [
    "def region() -> None:\n",
    "    \n",
    "    x, y = np.mgrid[-1:1:1000j, -1:1:1000j]\n",
    "    i = np.where(np.abs(y)<=(2*np.abs(x)+1))\n",
    "    #calculate the Lipschitz constant of F\n",
    "    z = y+np.sqrt(y**2-(2*x+1)**2)\n",
    "    z[i] = np.sqrt(y[i]**2+np.abs(y[i]**2-(2*x[i]+1)**2))\n",
    "    # Calculate the LHS of Weak-MVI\n",
    "    z = x**2*y+1/(8*np.max(z))*((2*x*y+y)**2+(x**2+x)**2)\n",
    "    \n",
    "    return((x,y,z))"
   ]
  },
  {
   "cell_type": "code",
   "execution_count": 9,
   "metadata": {},
   "outputs": [],
   "source": [
    "def region() -> None:\n",
    "    \n",
    "    x, y = np.mgrid[-1:1:1000j, -1:1:1000j]\n",
    "    i = np.where(np.abs(y)<=(2*np.abs(x)+1))\n",
    "    \n",
    "    # Calculate the max eigenvalue in the domain [-2,2]^2\n",
    "    max_eigen = y+np.sqrt(y**2-(2*x+1)**2)\n",
    "    max_eigen[i] = np.sqrt(y[i]**2+np.abs(y[i]**2-(2*x[i]+1)**2))\n",
    "    \n",
    "    #Obtain the Lipschitz constant\n",
    "    L = np.max(max_eigen)\n",
    "    \n",
    "    # Calculate the LHS of Weak-MVI\n",
    "    z = x**2*y+1/(8*L)*((2*x*y+y)**2+(x**2+x)**2)\n",
    "    \n",
    "    return((x,y,z))"
   ]
  },
  {
   "cell_type": "code",
   "execution_count": 10,
   "metadata": {
    "scrolled": true
   },
   "outputs": [
    {
     "name": "stderr",
     "output_type": "stream",
     "text": [
      "F:\\Anaconda\\lib\\site-packages\\ipykernel_launcher.py:7: RuntimeWarning: invalid value encountered in sqrt\n",
      "  import sys\n"
     ]
    },
    {
     "data": {
      "text/plain": [
       "<matplotlib.collections.PathCollection at 0x12a686b8948>"
      ]
     },
     "execution_count": 10,
     "metadata": {},
     "output_type": "execute_result"
    },
    {
     "data": {
      "image/png": "[encoded data removed]",
      "text/plain": [
       "<Figure size 432x288 with 1 Axes>"
      ]
     },
     "metadata": {
      "needs_background": "light"
     },
     "output_type": "display_data"
    }
   ],
   "source": [
    "# obtain the region where MVI is not satisfied\n",
    "r = np.where(region()[2]<0)\n",
    "# plot the region\n",
    "plt.scatter(region()[0][r[0],r[1]],region()[1][r[0],r[1]])\n",
    "plt.scatter(0,0,marker = 'x')\n"
   ]
  }
 ],
 "metadata": {
  "kernelspec": {
   "display_name": "Python 3",
   "language": "python",
   "name": "python3"
  },
  "language_info": {
   "codemirror_mode": {
    "name": "ipython",
    "version": 3
   },
   "file_extension": ".py",
   "mimetype": "text/x-python",
   "name": "python",
   "nbconvert_exporter": "python",
   "pygments_lexer": "ipython3",
   "version": "3.7.4"
  }
 },
 "nbformat": 4,
 "nbformat_minor": 2
}
